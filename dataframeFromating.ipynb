{
 "cells": [
  {
   "cell_type": "code",
   "execution_count": 75,
   "metadata": {},
   "outputs": [
    {
     "name": "stderr",
     "output_type": "stream",
     "text": [
      "100%|██████████| 857/857 [00:14<00:00, 60.23it/s] "
     ]
    },
    {
     "name": "stdout",
     "output_type": "stream",
     "text": [
      "           0          1          2          3          4          5  \\\n",
      "0 -11.389334  -8.972305  -5.749599  -8.166629  -2.600137   4.138247   \n",
      "1  12.927443  16.955825  17.907988  26.257725  22.449073  13.879606   \n",
      "2  45.154498  42.298009  35.339895  45.740444  41.785306  39.880980   \n",
      "3  13.366903  14.465553  17.102312  12.634470  16.003662  27.063401   \n",
      "4 -10.070954 -20.544747  -3.772030   0.988785  -8.752575  -6.994736   \n",
      "\n",
      "           6          7          8          9  ...       7672       7673  \\\n",
      "0   0.183108   4.797436  10.217441  13.073930  ...  14.905013  13.073930   \n",
      "1   9.485008  16.003662  17.615015  13.073930  ...  33.362325  29.626917   \n",
      "2  30.139620  31.750973  27.649348  21.863127  ...   4.650950   8.532845   \n",
      "3  16.662852  23.035019  15.271229  20.691234  ... -16.223392 -18.347448   \n",
      "4   0.988785  -3.186084  -1.867704  -5.090410  ... -63.245594 -57.312886   \n",
      "\n",
      "        7674       7675       7676       7677       7678       7679  \\\n",
      "0  22.668803  18.640421  24.206912  25.159075   5.310140  11.828794   \n",
      "1  31.018540  25.012589  28.674754  35.120165  37.097734  37.830167   \n",
      "2  16.516365  15.417716  12.854200  14.099336  12.341497  10.876631   \n",
      "3 -25.671778 -20.764477 -15.564202 -15.710689 -17.688258 -19.226368   \n",
      "4 -49.329366 -54.163424 -55.408560 -45.374228 -41.272602 -31.018540   \n",
      "\n",
      "        7680           stage  \n",
      "0  12.927443   Sleep stage W  \n",
      "1  45.154498   Sleep stage W  \n",
      "2  13.366903   Sleep stage W  \n",
      "3 -10.070954   Sleep stage W  \n",
      "4 -25.671778   Sleep stage W  \n",
      "\n",
      "[5 rows x 7682 columns]\n"
     ]
    },
    {
     "name": "stderr",
     "output_type": "stream",
     "text": [
      "\n"
     ]
    }
   ],
   "source": [
    "import pyedflib\n",
    "import pandas as pd\n",
    "from tqdm import tqdm\n",
    "\n",
    "# Function to read EDF file and convert to DataFrame\n",
    "def edf_to_dataframe(edf_file):\n",
    "    # Open the EDF file\n",
    "    f = pyedflib.EdfReader(edf_file)\n",
    "    \n",
    "    # Get the number of signals\n",
    "    n_signals = f.signals_in_file\n",
    "    \n",
    "    # Get the signal labels\n",
    "    signal_labels = f.getSignalLabels()\n",
    "    \n",
    "    # Read the signals data\n",
    "    signals_data = []\n",
    "    for i in range(n_signals):\n",
    "        signals_data.append(f.readSignal(i))\n",
    "    \n",
    "    # Close the EDF file\n",
    "    f.close()\n",
    "    \n",
    "    # Create a dictionary with the signal labels as keys and the signal data as values\n",
    "    data_dict = {signal_labels[i]: signals_data[i] for i in range(n_signals)}\n",
    "    \n",
    "    # Convert the dictionary to a pandas DataFrame\n",
    "    df = pd.DataFrame(data_dict)\n",
    "    \n",
    "    return df\n",
    "\n",
    "# Function to transform EDF data into a new DataFrame with reshaped ECG signal\n",
    "def transformEdf(df_edf):\n",
    "    new_df = pd.DataFrame()  # Create an empty DataFrame to store the transformed data\n",
    "    \n",
    "    # Loop through each chunk of 7680 rows in the original DataFrame\n",
    "    for row in tqdm(range(0, df_edf.shape[0], 7680)):\n",
    "        # Extract the ECG signal from the current chunk and reshape it into a new column\n",
    "        new_df = pd.concat([new_df, pd.DataFrame({row // 7680: df_edf.loc[row:row+7679, 'ECG'].values})], axis=1)\n",
    "    \n",
    "    return new_df\n",
    "\n",
    "# Function to read stage annotations from a text file and convert them into a DataFrame\n",
    "def readStage(filename):\n",
    "    with open(filename) as f:\n",
    "        data = [line.split(',') for line in f.readlines()]\n",
    "    df = pd.DataFrame(data)\n",
    "    df.columns = df.iloc[0].str.strip()  # Set column names based on the first row of data\n",
    "    df.drop(0, inplace=True)  # Drop the first row (which contains the column names)\n",
    "    df['Duration'] = df['Duration'].astype(int)  # Convert 'Duration' column to integer type\n",
    "    return df.drop(df[df['Duration'] < 30].index)  # Remove rows with duration less than 30\n",
    "\n",
    "# Function to label the transformed EDF data with stage annotations\n",
    "def labeling(df_trans, df_stage):\n",
    "    return pd.concat([df_trans.T, pd.DataFrame({\"stage\": df_stage['Annotation'].values})], axis=1)\n",
    "\n",
    "\n",
    "\n",
    "# Example usage:\n",
    "filename = 'SN002_sleepscoring.txt'    \n",
    "edf_file = \"SN002.edf\"\n",
    "df_edf = edf_to_dataframe(edf_file)\n",
    "df_stage = readStage(filename)\n",
    "df_trans = transformEdf(df_edf)\n",
    "df_done = labeling(df_trans, df_stage)\n",
    "df_done.head()"
   ]
  },
  {
   "cell_type": "code",
   "execution_count": null,
   "metadata": {},
   "outputs": [],
   "source": []
  }
 ],
 "metadata": {
  "kernelspec": {
   "display_name": "mednap1",
   "language": "python",
   "name": "python3"
  },
  "language_info": {
   "codemirror_mode": {
    "name": "ipython",
    "version": 3
   },
   "file_extension": ".py",
   "mimetype": "text/x-python",
   "name": "python",
   "nbconvert_exporter": "python",
   "pygments_lexer": "ipython3",
   "version": "3.12.4"
  }
 },
 "nbformat": 4,
 "nbformat_minor": 2
}
