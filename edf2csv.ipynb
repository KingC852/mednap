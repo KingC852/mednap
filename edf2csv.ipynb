{
 "cells": [
  {
   "cell_type": "code",
   "execution_count": 1,
   "metadata": {},
   "outputs": [
    {
     "name": "stderr",
     "output_type": "stream",
     "text": [
      "<>:32: SyntaxWarning: invalid escape sequence '\\S'\n",
      "<>:32: SyntaxWarning: invalid escape sequence '\\S'\n",
      "C:\\Users\\tobyc\\AppData\\Local\\Temp\\ipykernel_11440\\2879987263.py:32: SyntaxWarning: invalid escape sequence '\\S'\n",
      "  edf_file = 'Haaglanden Medisch Centrum sleep staging database\\SN001.edf'\n"
     ]
    },
    {
     "name": "stdout",
     "output_type": "stream",
     "text": [
      "   EEG F4-M1  EEG C4-M1  EEG O2-M1  EEG C3-M2  EMG chin  EOG E1-M2  EOG E2-M2  \\\n",
      "0  17.126726  14.758526  38.342870   5.896086 -4.528878   3.747616  -9.289693   \n",
      "1  18.225376  15.564202  37.122148   5.456626  1.403830  10.998703 -10.901045   \n",
      "2  17.590600  10.632486  24.109255   7.580682  0.231937  21.643397  -9.509422   \n",
      "3  10.949874   2.941939  13.000687   6.433204 -0.231937  27.405203 -11.413748   \n",
      "4   5.822843   1.647974  18.030060   3.381399  2.868696  26.306554 -14.612039   \n",
      "\n",
      "         ECG  \n",
      "0  73.719387  \n",
      "1  70.936141  \n",
      "2  69.398032  \n",
      "3  65.149920  \n",
      "4  57.605859  \n"
     ]
    }
   ],
   "source": [
    "import pyedflib\n",
    "import pandas as pd\n",
    "\n",
    "# Function to read EDF file and convert to DataFrame\n",
    "def edf_to_dataframe(edf_file):\n",
    "    # Open the EDF file\n",
    "    f = pyedflib.EdfReader(edf_file)\n",
    "\n",
    "    # Get the number of signals\n",
    "    n_signals = f.signals_in_file\n",
    "    \n",
    "    # Get the signal labels\n",
    "    signal_labels = f.getSignalLabels()\n",
    "    \n",
    "    # Read the signals data\n",
    "    signals_data = []\n",
    "    for i in range(n_signals):\n",
    "        signals_data.append(f.readSignal(i))\n",
    "    \n",
    "    # Close the EDF file\n",
    "    f.close()\n",
    "    \n",
    "    # Create a dictionary with the signal labels as keys and the signal data as values\n",
    "    data_dict = {signal_labels[i]: signals_data[i] for i in range(n_signals)}\n",
    "    \n",
    "    # Convert the dictionary to a pandas DataFrame\n",
    "    df = pd.DataFrame(data_dict)\n",
    "    \n",
    "    return df\n",
    "\n",
    "# Example usage\n",
    "edf_file = 'Haaglanden Medisch Centrum sleep staging database\\SN001.edf'\n",
    "df = edf_to_dataframe(edf_file)\n",
    "print(df.head())"
   ]
  },
  {
   "cell_type": "code",
   "execution_count": null,
   "metadata": {},
   "outputs": [],
   "source": []
  }
 ],
 "metadata": {
  "kernelspec": {
   "display_name": "mednap",
   "language": "python",
   "name": "python3"
  },
  "language_info": {
   "codemirror_mode": {
    "name": "ipython",
    "version": 3
   },
   "file_extension": ".py",
   "mimetype": "text/x-python",
   "name": "python",
   "nbconvert_exporter": "python",
   "pygments_lexer": "ipython3",
   "version": "3.12.3"
  }
 },
 "nbformat": 4,
 "nbformat_minor": 2
}
