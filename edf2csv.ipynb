{
 "cells": [
  {
   "cell_type": "code",
   "execution_count": 16,
   "metadata": {},
   "outputs": [],
   "source": [
    "import pyedflib\n",
    "import pandas as pd\n",
    "\n",
    "# Function to read EDF file and convert to DataFrame\n",
    "def edf_to_dataframe(edf_file):\n",
    "    # Open the EDF file\n",
    "    f = pyedflib.EdfReader(edf_file)\n",
    "    \n",
    "    # Get the number of signals\n",
    "    n_signals = f.signals_in_file\n",
    "    \n",
    "    # Get the signal labels\n",
    "    signal_labels = f.getSignalLabels()\n",
    "    \n",
    "    # Read the signals data\n",
    "    signals_data = []\n",
    "    for i in range(n_signals):\n",
    "        signals_data.append(f.readSignal(i))\n",
    "    \n",
    "    # Close the EDF file\n",
    "    f.close()\n",
    "    \n",
    "    # Create a dictionary with the signal labels as keys and the signal data as values\n",
    "    data_dict = {signal_labels[i]: signals_data[i] for i in range(n_signals)}\n",
    "    \n",
    "    # Convert the dictionary to a pandas DataFrame\n",
    "    df = pd.DataFrame(data_dict)\n",
    "    \n",
    "    return df\n",
    "\n",
    "\n",
    "# Example usage\n",
    "edf_file = \"SN001.edf\"\n",
    "df = edf_to_dataframe(edf_file)\n"
   ]
  },
  {
   "cell_type": "code",
   "execution_count": 17,
   "metadata": {},
   "outputs": [
    {
     "data": {
      "text/html": [
       "<div>\n",
       "<style scoped>\n",
       "    .dataframe tbody tr th:only-of-type {\n",
       "        vertical-align: middle;\n",
       "    }\n",
       "\n",
       "    .dataframe tbody tr th {\n",
       "        vertical-align: top;\n",
       "    }\n",
       "\n",
       "    .dataframe thead th {\n",
       "        text-align: right;\n",
       "    }\n",
       "</style>\n",
       "<table border=\"1\" class=\"dataframe\">\n",
       "  <thead>\n",
       "    <tr style=\"text-align: right;\">\n",
       "      <th></th>\n",
       "      <th>EEG F4-M1</th>\n",
       "      <th>EEG C4-M1</th>\n",
       "      <th>EEG O2-M1</th>\n",
       "      <th>EEG C3-M2</th>\n",
       "      <th>EMG chin</th>\n",
       "      <th>EOG E1-M2</th>\n",
       "      <th>EOG E2-M2</th>\n",
       "      <th>ECG</th>\n",
       "    </tr>\n",
       "  </thead>\n",
       "  <tbody>\n",
       "    <tr>\n",
       "      <th>0</th>\n",
       "      <td>17.126726</td>\n",
       "      <td>14.758526</td>\n",
       "      <td>38.342870</td>\n",
       "      <td>5.896086</td>\n",
       "      <td>-4.528878</td>\n",
       "      <td>3.747616</td>\n",
       "      <td>-9.289693</td>\n",
       "      <td>73.719387</td>\n",
       "    </tr>\n",
       "    <tr>\n",
       "      <th>1</th>\n",
       "      <td>18.225376</td>\n",
       "      <td>15.564202</td>\n",
       "      <td>37.122148</td>\n",
       "      <td>5.456626</td>\n",
       "      <td>1.403830</td>\n",
       "      <td>10.998703</td>\n",
       "      <td>-10.901045</td>\n",
       "      <td>70.936141</td>\n",
       "    </tr>\n",
       "    <tr>\n",
       "      <th>2</th>\n",
       "      <td>17.590600</td>\n",
       "      <td>10.632486</td>\n",
       "      <td>24.109255</td>\n",
       "      <td>7.580682</td>\n",
       "      <td>0.231937</td>\n",
       "      <td>21.643397</td>\n",
       "      <td>-9.509422</td>\n",
       "      <td>69.398032</td>\n",
       "    </tr>\n",
       "    <tr>\n",
       "      <th>3</th>\n",
       "      <td>10.949874</td>\n",
       "      <td>2.941939</td>\n",
       "      <td>13.000687</td>\n",
       "      <td>6.433204</td>\n",
       "      <td>-0.231937</td>\n",
       "      <td>27.405203</td>\n",
       "      <td>-11.413748</td>\n",
       "      <td>65.149920</td>\n",
       "    </tr>\n",
       "    <tr>\n",
       "      <th>4</th>\n",
       "      <td>5.822843</td>\n",
       "      <td>1.647974</td>\n",
       "      <td>18.030060</td>\n",
       "      <td>3.381399</td>\n",
       "      <td>2.868696</td>\n",
       "      <td>26.306554</td>\n",
       "      <td>-14.612039</td>\n",
       "      <td>57.605859</td>\n",
       "    </tr>\n",
       "  </tbody>\n",
       "</table>\n",
       "</div>"
      ],
      "text/plain": [
       "   EEG F4-M1  EEG C4-M1  EEG O2-M1  EEG C3-M2  EMG chin  EOG E1-M2  EOG E2-M2  \\\n",
       "0  17.126726  14.758526  38.342870   5.896086 -4.528878   3.747616  -9.289693   \n",
       "1  18.225376  15.564202  37.122148   5.456626  1.403830  10.998703 -10.901045   \n",
       "2  17.590600  10.632486  24.109255   7.580682  0.231937  21.643397  -9.509422   \n",
       "3  10.949874   2.941939  13.000687   6.433204 -0.231937  27.405203 -11.413748   \n",
       "4   5.822843   1.647974  18.030060   3.381399  2.868696  26.306554 -14.612039   \n",
       "\n",
       "         ECG  \n",
       "0  73.719387  \n",
       "1  70.936141  \n",
       "2  69.398032  \n",
       "3  65.149920  \n",
       "4  57.605859  "
      ]
     },
     "execution_count": 17,
     "metadata": {},
     "output_type": "execute_result"
    }
   ],
   "source": [
    "df.head()"
   ]
  },
  {
   "cell_type": "code",
   "execution_count": 15,
   "metadata": {},
   "outputs": [
    {
     "name": "stdout",
     "output_type": "stream",
     "text": [
      "<class 'pandas.core.series.Series'>\n",
      "RangeIndex: 6566400 entries, 0 to 6566399\n",
      "Series name: ECG\n",
      "Non-Null Count    Dtype  \n",
      "--------------    -----  \n",
      "6566400 non-null  float64\n",
      "dtypes: float64(1)\n",
      "memory usage: 50.1 MB\n"
     ]
    }
   ],
   "source": [
    "df.info()"
   ]
  },
  {
   "cell_type": "code",
   "execution_count": null,
   "metadata": {},
   "outputs": [],
   "source": []
  }
 ],
 "metadata": {
  "kernelspec": {
   "display_name": "mednap",
   "language": "python",
   "name": "python3"
  },
  "language_info": {
   "codemirror_mode": {
    "name": "ipython",
    "version": 3
   },
   "file_extension": ".py",
   "mimetype": "text/x-python",
   "name": "python",
   "nbconvert_exporter": "python",
   "pygments_lexer": "ipython3",
   "version": "3.12.3"
  }
 },
 "nbformat": 4,
 "nbformat_minor": 2
}
